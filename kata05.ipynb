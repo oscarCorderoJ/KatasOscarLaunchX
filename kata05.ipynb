{
 "cells": [
  {
   "cell_type": "markdown",
   "metadata": {},
   "source": [
    "## Ejercicio 1 Operadores aritméticos"
   ]
  },
  {
   "cell_type": "code",
   "execution_count": 3,
   "metadata": {},
   "outputs": [],
   "source": [
    "tierra = 149597870\n",
    "jupiter = 778547200"
   ]
  },
  {
   "cell_type": "code",
   "execution_count": 4,
   "metadata": {},
   "outputs": [
    {
     "name": "stdout",
     "output_type": "stream",
     "text": [
      "628949330\n",
      "390577533.93\n"
     ]
    }
   ],
   "source": [
    "## Distancia entre ambos planetas\n",
    "distanciaKm = jupiter - tierra\n",
    "distanciaMi = distanciaKm * 0.621\n",
    "print(distanciaKm)\n",
    "print(distanciaMi)"
   ]
  },
  {
   "cell_type": "markdown",
   "metadata": {},
   "source": [
    "## Ejercicio 2 Convertir cadena en números y uso de valores absolutos"
   ]
  },
  {
   "cell_type": "code",
   "execution_count": 5,
   "metadata": {},
   "outputs": [],
   "source": [
    "## Almacenamos la entrada del usuario\n",
    "primerPlaneta = input(\"Introduzca la distancia del sol para el primer planeta.\")\n",
    "segundoPlaneta = input(\"Introduzca la distancia del sol para el segundo planeta.\")"
   ]
  },
  {
   "cell_type": "code",
   "execution_count": 6,
   "metadata": {},
   "outputs": [],
   "source": [
    "## convertimos cadena a entero\n",
    "primerPlaneta = int(primerPlaneta)\n",
    "segundoPlaneta = int(segundoPlaneta)"
   ]
  },
  {
   "cell_type": "code",
   "execution_count": 7,
   "metadata": {},
   "outputs": [
    {
     "name": "stdout",
     "output_type": "stream",
     "text": [
      "4050\n",
      "2515.05\n"
     ]
    }
   ],
   "source": [
    "## Calculamos la distancia\n",
    "distanciaKm = segundoPlaneta - primerPlaneta\n",
    "\n",
    "## Convetimos a millas con un valor absoluto\n",
    "distanciaMi = distanciaKm * 0.621\n",
    "\n",
    "print(abs(distanciaKm))\n",
    "print(abs(distanciaMi))\n"
   ]
  }
 ],
 "metadata": {
  "interpreter": {
   "hash": "08ebbd35721cb436502ef145d6321979f41333b8da2165cdb98fe5045cb1a608"
  },
  "kernelspec": {
   "display_name": "Python 3.10.0 64-bit",
   "language": "python",
   "name": "python3"
  },
  "language_info": {
   "codemirror_mode": {
    "name": "ipython",
    "version": 3
   },
   "file_extension": ".py",
   "mimetype": "text/x-python",
   "name": "python",
   "nbconvert_exporter": "python",
   "pygments_lexer": "ipython3",
   "version": "3.10.0"
  },
  "orig_nbformat": 4
 },
 "nbformat": 4,
 "nbformat_minor": 2
}
