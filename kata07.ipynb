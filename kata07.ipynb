{
 "cells": [
  {
   "cell_type": "markdown",
   "metadata": {},
   "source": [
    "## Creación de un bucle while"
   ]
  },
  {
   "cell_type": "code",
   "execution_count": 6,
   "metadata": {},
   "outputs": [],
   "source": [
    "## Declaramos variables\n",
    "new_planet = ''\n",
    "planets = []\n"
   ]
  },
  {
   "cell_type": "code",
   "execution_count": 7,
   "metadata": {},
   "outputs": [],
   "source": [
    "while new_planet.lower() != 'done':\n",
    "    ## Verificamos si hay un valor\n",
    "    if new_planet:\n",
    "        # Almacenamos ese valor en la lista\n",
    "        planets.append(new_planet)\n",
    "    ## Capturamos un nuevo valor\n",
    "    new_planet = input(\n",
    "        'Escriba el nombre de un planeta, o done si desea terminar.')\n"
   ]
  },
  {
   "cell_type": "markdown",
   "metadata": {},
   "source": [
    "## Creación de un ciclo for"
   ]
  },
  {
   "cell_type": "code",
   "execution_count": 8,
   "metadata": {},
   "outputs": [
    {
     "name": "stdout",
     "output_type": "stream",
     "text": [
      "Marte\n",
      "Tierra\n",
      "Jupiter\n"
     ]
    }
   ],
   "source": [
    "## Mostramos los planetas agregados por el usuario\n",
    "for planet in planets:\n",
    "    print(planet)\n"
   ]
  }
 ],
 "metadata": {
  "interpreter": {
   "hash": "08ebbd35721cb436502ef145d6321979f41333b8da2165cdb98fe5045cb1a608"
  },
  "kernelspec": {
   "display_name": "Python 3.10.0 64-bit",
   "language": "python",
   "name": "python3"
  },
  "language_info": {
   "codemirror_mode": {
    "name": "ipython",
    "version": 3
   },
   "file_extension": ".py",
   "mimetype": "text/x-python",
   "name": "python",
   "nbconvert_exporter": "python",
   "pygments_lexer": "ipython3",
   "version": "3.10.0"
  },
  "orig_nbformat": 4
 },
 "nbformat": 4,
 "nbformat_minor": 2
}
