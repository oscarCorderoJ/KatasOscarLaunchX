{
 "cells": [
  {
   "cell_type": "markdown",
   "metadata": {},
   "source": [
    "## Uso de funciones"
   ]
  },
  {
   "cell_type": "code",
   "execution_count": 24,
   "metadata": {},
   "outputs": [],
   "source": [
    "## Función para mostrar el promedio de 3 tanques de combustible\n",
    "\n",
    "def informeTanques(tanque1, tanque2, tanque3):\n",
    "    promedio = (tanque1 + tanque2 + tanque3) / 3\n",
    "    return f'EL promedio de los tanques es {promedio}'"
   ]
  },
  {
   "cell_type": "code",
   "execution_count": 25,
   "metadata": {},
   "outputs": [
    {
     "name": "stdout",
     "output_type": "stream",
     "text": [
      "EL promedio de los tanques es 39.333333333333336\n"
     ]
    }
   ],
   "source": [
    "## LLamamos la función\n",
    "print(informeTanques(19, 47, 52))"
   ]
  },
  {
   "cell_type": "code",
   "execution_count": 26,
   "metadata": {},
   "outputs": [],
   "source": [
    "## Creamos la función promedio\n",
    "def promedio(valores):\n",
    "    total = sum(valores)\n",
    "    numeroValores = len(valores)\n",
    "    return total / numeroValores\n"
   ]
  },
  {
   "cell_type": "code",
   "execution_count": 27,
   "metadata": {},
   "outputs": [
    {
     "name": "stdout",
     "output_type": "stream",
     "text": [
      "El promedio de los tanques es 36.666666666666664\n"
     ]
    }
   ],
   "source": [
    "## Actualizamos función reporteTanques\n",
    "\n",
    "def informeTanques(tanque1, tanque2, tanque3):\n",
    "    return f'El promedio de los tanques es {promedio([tanque1, tanque2, tanque3])}'\n",
    "\n",
    "## Generamos el reporte\n",
    "print(informeTanques(15, 75, 20))\n"
   ]
  },
  {
   "cell_type": "markdown",
   "metadata": {},
   "source": [
    "## Trabajo con argumentos clave"
   ]
  },
  {
   "cell_type": "code",
   "execution_count": 32,
   "metadata": {},
   "outputs": [
    {
     "name": "stdout",
     "output_type": "stream",
     "text": [
      "Informe de Cohete\n",
      "    Hora de Prelanzamiento: 24\n",
      "    Tiempo de vuelo: 67\n",
      "    Destino: Marte\n",
      "    Tanque Externo: 2400\n",
      "    Tanque Interno: 2600\n",
      "    Total Combustible: 5000\n",
      "    \n"
     ]
    }
   ],
   "source": [
    "## Función para informe de misión\n",
    "def informeCohete(horaPrelanzamiento, tiempoVuelo, destino, tanqueExterno, tanqueInterno):\n",
    "    return f\"\"\"Informe de Cohete\n",
    "    Hora de Prelanzamiento: {horaPrelanzamiento}\n",
    "    Tiempo de vuelo: {tiempoVuelo}\n",
    "    Destino: {destino}\n",
    "    Tanque Externo: {tanqueExterno}\n",
    "    Tanque Interno: {tanqueInterno}\n",
    "    Total Combustible: {tanqueExterno + tanqueInterno}\n",
    "    \"\"\"\n",
    "print(informeCohete(24, 67, 'Marte', 2400, 2600))"
   ]
  },
  {
   "cell_type": "code",
   "execution_count": 33,
   "metadata": {},
   "outputs": [
    {
     "name": "stdout",
     "output_type": "stream",
     "text": [
      "Informe de Cohete\n",
      "    Destino: Jupiter\n",
      "    Tiempo de vuelo: 89\n",
      "    Total combustible: 52000\n",
      "    \n"
     ]
    }
   ],
   "source": [
    "## Función con args y kwargs\n",
    "def informeCohete(destino, *minutes, **fuel_reservoirs):\n",
    "    return f\"\"\"Informe de Cohete\n",
    "    Destino: {destino}\n",
    "    Tiempo de vuelo: {sum(minutes)}\n",
    "    Total combustible: {sum(fuel_reservoirs.values())}\n",
    "    \"\"\"\n",
    "print(informeCohete('Jupiter', 15, 16, 58, tanqueInterno = 3000, tanqueExterno = 48000, tanqueReserva = 1000))"
   ]
  },
  {
   "cell_type": "code",
   "execution_count": 44,
   "metadata": {},
   "outputs": [
    {
     "name": "stdout",
     "output_type": "stream",
     "text": [
      "Informe de Cohete\n",
      "    Destino: Jupiter\n",
      "    Tiempo de vuelo: 89\n",
      "    Total combustible: 52000\n",
      "    tanqueInterno = 3000 \n",
      "tanqueExterno = 48000 \n",
      "tanqueReserva = 1000 \n",
      "\n"
     ]
    }
   ],
   "source": [
    "def informeCohete(destino, *minutes, **fuel_reservoirs):\n",
    "    datos = f\"\"\"Informe de Cohete\n",
    "    Destino: {destino}\n",
    "    Tiempo de vuelo: {sum(minutes)}\n",
    "    Total combustible: {sum(fuel_reservoirs.values())}\n",
    "    \"\"\"\n",
    "    for tanque, combustible in fuel_reservoirs.items():\n",
    "        datos += f\"{tanque} = {combustible} \\n\"\n",
    "    \n",
    "    return datos\n",
    "\n",
    "print(informeCohete('Jupiter', 15, 16, 58, tanqueInterno = 3000, tanqueExterno = 48000, tanqueReserva = 1000))\n"
   ]
  }
 ],
 "metadata": {
  "interpreter": {
   "hash": "08ebbd35721cb436502ef145d6321979f41333b8da2165cdb98fe5045cb1a608"
  },
  "kernelspec": {
   "display_name": "Python 3.10.0 64-bit",
   "language": "python",
   "name": "python3"
  },
  "language_info": {
   "codemirror_mode": {
    "name": "ipython",
    "version": 3
   },
   "file_extension": ".py",
   "mimetype": "text/x-python",
   "name": "python",
   "nbconvert_exporter": "python",
   "pygments_lexer": "ipython3",
   "version": "3.10.0"
  },
  "orig_nbformat": 4
 },
 "nbformat": 4,
 "nbformat_minor": 2
}
