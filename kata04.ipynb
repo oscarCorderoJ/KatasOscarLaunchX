{
 "cells": [
  {
   "cell_type": "markdown",
   "metadata": {},
   "source": [
    "## Ejercicio 1 Transformar Cadenas"
   ]
  },
  {
   "cell_type": "code",
   "execution_count": 42,
   "metadata": {},
   "outputs": [],
   "source": [
    "text = \"\"\"Interesting facts about the Moon. The Moon is Earth's only satellite. There are several interesting facts about the Moon and how it affects life here on Earth. On average, the Moon moves 4cm away from the Earth every year. This yearly drift is not significant enough to cause immediate effects on Earth. The highest daylight temperature of the Moon is 127 C.\"\"\""
   ]
  },
  {
   "cell_type": "code",
   "execution_count": 43,
   "metadata": {},
   "outputs": [],
   "source": [
    "## Dividir texto\n",
    "textoDivido = text.split('. ')"
   ]
  },
  {
   "cell_type": "code",
   "execution_count": 44,
   "metadata": {},
   "outputs": [],
   "source": [
    "## Palabras clave\n",
    "palabrasClave = [\"average\", \"temperature\", \"distance\"]"
   ]
  },
  {
   "cell_type": "code",
   "execution_count": 47,
   "metadata": {},
   "outputs": [
    {
     "name": "stdout",
     "output_type": "stream",
     "text": [
      "On average, the Moon moves 4cm away from the Earth every year\n",
      "The highest daylight temperature of the Moon is 127 C.\n"
     ]
    }
   ],
   "source": [
    "## Ciclo para recorrer cadena\n",
    "for palabra in textoDivido:\n",
    "    for palabraClave in palabrasClave:\n",
    "        if palabraClave in palabra:\n",
    "            print(palabra)"
   ]
  },
  {
   "cell_type": "code",
   "execution_count": 48,
   "metadata": {},
   "outputs": [
    {
     "name": "stdout",
     "output_type": "stream",
     "text": [
      "On average, the Moon moves 4cm away from the Earth every year\n",
      "The highest daylight temperature of the Moon is 127 Celsius\n"
     ]
    }
   ],
   "source": [
    "## Ciclo para recorrer cadena\n",
    "for palabra in textoDivido:\n",
    "    for palabraClave in palabrasClave:\n",
    "        if palabraClave in palabra:\n",
    "            ## Remplazamos la C. por Celsius\n",
    "            cadena = palabra.replace('C.', 'Celsius')\n",
    "            print(cadena)\n"
   ]
  },
  {
   "cell_type": "markdown",
   "metadata": {},
   "source": [
    "## Ejercicio 2 Formateando Cadenas"
   ]
  },
  {
   "cell_type": "code",
   "execution_count": 49,
   "metadata": {},
   "outputs": [],
   "source": [
    "# Datos con los que vas a trabajar\n",
    "name = \"Moon\"\n",
    "gravity = 0.00162 # in kms\n",
    "planet = \"Earth\"\n"
   ]
  },
  {
   "cell_type": "code",
   "execution_count": 50,
   "metadata": {},
   "outputs": [],
   "source": [
    "## Se crea el titulo de la plantilla\n",
    "titulo = f'La gravedad en el planeta {planet}'"
   ]
  },
  {
   "cell_type": "code",
   "execution_count": 51,
   "metadata": {},
   "outputs": [],
   "source": [
    "## Creamos la plantilla\n",
    "plantilla = f\"\"\"Planeta: {planet}\n",
    "Gravedad en la {name}: {gravity * 1000} ms2\"\"\"\n"
   ]
  },
  {
   "cell_type": "code",
   "execution_count": 52,
   "metadata": {},
   "outputs": [],
   "source": [
    "## Se unen las cadenas\n",
    "texto = f\"\"\"{titulo.title()}\n",
    "{plantilla}\n",
    "\"\"\""
   ]
  },
  {
   "cell_type": "code",
   "execution_count": 53,
   "metadata": {},
   "outputs": [],
   "source": [
    "## Datos nuevos\n",
    "planeta = 'Marte '\n",
    "gravedad = 0.00143\n",
    "nombre = 'Ganímedes'"
   ]
  },
  {
   "cell_type": "code",
   "execution_count": 54,
   "metadata": {},
   "outputs": [
    {
     "name": "stdout",
     "output_type": "stream",
     "text": [
      "La Gravedad En El Planeta Earth\n",
      "Planeta: Earth\n",
      "Gravedad en la Moon: 1.6199999999999999 ms2\n",
      "\n"
     ]
    }
   ],
   "source": [
    "##comprobamos la plantilla\n",
    "print(texto)"
   ]
  },
  {
   "cell_type": "code",
   "execution_count": 56,
   "metadata": {},
   "outputs": [
    {
     "name": "stdout",
     "output_type": "stream",
     "text": [
      "La gravedad en el planeta Marte \n",
      "Planeta: Marte \n",
      "Gravedad en Ganímedes: 1.4300000000000002 ms2\n"
     ]
    }
   ],
   "source": [
    "## Creamos la nueva plantilla\n",
    "plantillaNueva = \"\"\"La gravedad en el planeta {planeta}\n",
    "Planeta: {planeta}\n",
    "Gravedad en {nombre}: {gravedad} ms2\"\"\"\n",
    "\n",
    "## Formateamos la plantilla\n",
    "textoNuevo = plantillaNueva.format(planeta=planeta, gravedad=gravedad * 1000, nombre=nombre)\n",
    "print(textoNuevo)"
   ]
  }
 ],
 "metadata": {
  "interpreter": {
   "hash": "964017fe6b18bc4e28c1b3b3a583497ed8d36019a6660f71a6f7761cbef47ba0"
  },
  "kernelspec": {
   "display_name": "Python 3.10.0 ('env': venv)",
   "language": "python",
   "name": "python3"
  },
  "language_info": {
   "codemirror_mode": {
    "name": "ipython",
    "version": 3
   },
   "file_extension": ".py",
   "mimetype": "text/x-python",
   "name": "python",
   "nbconvert_exporter": "python",
   "pygments_lexer": "ipython3",
   "version": "3.10.0"
  },
  "orig_nbformat": 4
 },
 "nbformat": 4,
 "nbformat_minor": 2
}
