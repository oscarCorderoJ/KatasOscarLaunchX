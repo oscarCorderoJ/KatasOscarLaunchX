{
 "cells": [
  {
   "cell_type": "markdown",
   "metadata": {},
   "source": [
    "## Asteroide con velocidad de 49 mk/s"
   ]
  },
  {
   "cell_type": "code",
   "execution_count": 8,
   "metadata": {},
   "outputs": [
    {
     "name": "stdout",
     "output_type": "stream",
     "text": [
      "¡ALERTA EL ASTEROIDE SE ACERCA A LA TIERRA CON UNA VELOCIDAD DE  49  km/s !\n"
     ]
    }
   ],
   "source": [
    "asteroide = 49\n",
    "if(asteroide > 25):\n",
    "    print('¡ALERTA EL ASTEROIDE SE ACERCA A LA TIERRA CON UNA VELOCIDAD DE ', asteroide, ' km/s !')\n",
    "else:\n",
    "    print('EL ASTEROIDE VIAJA A ', asteroide, ' km/s')"
   ]
  },
  {
   "cell_type": "markdown",
   "metadata": {},
   "source": [
    "## Asteroide en el cielo"
   ]
  },
  {
   "cell_type": "code",
   "execution_count": 9,
   "metadata": {},
   "outputs": [
    {
     "name": "stdout",
     "output_type": "stream",
     "text": [
      "¡Lindo día!\n"
     ]
    }
   ],
   "source": [
    "asteroide = 19\n",
    "\n",
    "if asteroide > 20:\n",
    "    print('¡Cuidado un asteroide se acerca a la tierra!')\n",
    "elif asteroide == 20:\n",
    "    print('¡Cuidado un asteroide se acerca a la tierra!')\n",
    "else:\n",
    "    print('¡Lindo día!')"
   ]
  },
  {
   "cell_type": "markdown",
   "metadata": {},
   "source": [
    "## Asteroide de gran tamaño"
   ]
  },
  {
   "cell_type": "code",
   "execution_count": 24,
   "metadata": {},
   "outputs": [
    {
     "name": "stdout",
     "output_type": "stream",
     "text": [
      "¡Lindo día!\n"
     ]
    }
   ],
   "source": [
    "velocidadAsteroide = 19\n",
    "tamanioAsteroide = 750\n",
    "\n",
    "if velocidadAsteroide > 25 and tamanioAsteroide > 25:\n",
    "    print('¡Peligro Asteroide altamente peligroso se acerca a la tierra')\n",
    "elif velocidadAsteroide == 20 or velocidadAsteroide > 20:\n",
    "    print('¡Un asteroide atravesó la atmósfera!')\n",
    "elif tamanioAsteroide < 25:\n",
    "    print('¡Lindo día!')\n",
    "else:\n",
    "    print('¡Lindo día!')\n",
    "\n"
   ]
  }
 ],
 "metadata": {
  "interpreter": {
   "hash": "08ebbd35721cb436502ef145d6321979f41333b8da2165cdb98fe5045cb1a608"
  },
  "kernelspec": {
   "display_name": "Python 3.10.0 64-bit",
   "language": "python",
   "name": "python3"
  },
  "language_info": {
   "codemirror_mode": {
    "name": "ipython",
    "version": 3
   },
   "file_extension": ".py",
   "mimetype": "text/x-python",
   "name": "python",
   "nbconvert_exporter": "python",
   "pygments_lexer": "ipython3",
   "version": "3.10.0"
  },
  "orig_nbformat": 4
 },
 "nbformat": 4,
 "nbformat_minor": 2
}
